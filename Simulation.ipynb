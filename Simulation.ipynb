{
 "cells": [
  {
   "cell_type": "markdown",
   "id": "078c0864-203a-42e9-975d-941a63a773a7",
   "metadata": {},
   "source": [
    "### Step 1: Imports and Setup\n",
    "\n",
    "Start by importing the necessary modules and initializing the database connection."
   ]
  },
  {
   "cell_type": "code",
   "execution_count": 1,
   "id": "1723e65d-20d5-4325-9bd6-1d57bf6419fa",
   "metadata": {},
   "outputs": [],
   "source": [
    "from dapp.streamabletoken import StreamableToken\n",
    "from dapp.db import get_connection\n",
    "\n",
    "from sqlite import initialise_db\n",
    "initialise_db()\n",
    "\n",
    "# Define constants\n",
    "USDC_ADDRESS = \"0x0040c865922efFA8A93aD0CF8cD93eACE5d901d5\"\n",
    "CTSI_ADDRESS = \"0x00E060B4013F520ED2D51849673bBb51371806A4\"\n",
    "ALICE_ADDRESS = \"0xf39Fd6e51aad88F6F4ce6aB8827279cffFb92266\"\n",
    "RANDOM_USER=\"0x278639F7912F119EE7DF93Fb12A3aD3148987ce3\"\n",
    "BOB_ADDRESS = \"0x70997970C51812dc3A010C7d01b50e0d17dc79C8\"\n",
    "DECIMALS = 10 ** 18\n",
    "\n",
    "# Set the current timestamp\n",
    "current_timestamp = 0\n",
    "\n",
    "# Establish database connection\n",
    "connection = get_connection()\n",
    "\n",
    "# Create an instance of the StreamableToken\n",
    "usdc = StreamableToken(connection, USDC_ADDRESS)"
   ]
  },
  {
   "cell_type": "markdown",
   "id": "7de4f050-82de-45ce-a0cd-bd9ed48c4ebe",
   "metadata": {},
   "source": [
    "### Step 2: Minting Tokens\n",
    "\n",
    "Demonstrate minting tokens to Alice's account."
   ]
  },
  {
   "cell_type": "code",
   "execution_count": 2,
   "id": "a9b7285b-3e0f-4091-9588-48afde54338a",
   "metadata": {},
   "outputs": [
    {
     "name": "stdout",
     "output_type": "stream",
     "text": [
      "Minted 1000.0 USDC to 0xf39Fd6e51aad88F6F4ce6aB8827279cffFb92266\n"
     ]
    }
   ],
   "source": [
    "# Minting tokens to Alice\n",
    "mint_amount = 1000 * DECIMALS  # Define the amount to mint\n",
    "usdc.mint(mint_amount, ALICE_ADDRESS)\n",
    "print(f\"Minted {mint_amount/DECIMALS} USDC to {ALICE_ADDRESS}\")"
   ]
  },
  {
   "cell_type": "markdown",
   "id": "4e2cc137-5ca8-4663-8a9a-df076a1f798b",
   "metadata": {},
   "source": [
    "### Step 3: Checking Balances\n",
    "\n",
    "Check the balance of Alice and Bob to confirm the minting."
   ]
  },
  {
   "cell_type": "code",
   "execution_count": 3,
   "id": "f020033b-9dc3-4330-85c5-69b3811bdac7",
   "metadata": {},
   "outputs": [
    {
     "name": "stdout",
     "output_type": "stream",
     "text": [
      "Alice's balance: 1000.0\n",
      "Bob's balance: 0.0\n"
     ]
    }
   ],
   "source": [
    "# Checking Alice's balance\n",
    "alice_balance = usdc.get_stored_balance(ALICE_ADDRESS)\n",
    "print(f\"Alice's balance: {alice_balance/DECIMALS}\")\n",
    "\n",
    "# Checking Bob's balance\n",
    "bob_balance = usdc.get_stored_balance(BOB_ADDRESS)\n",
    "print(f\"Bob's balance: {bob_balance/DECIMALS}\")"
   ]
  },
  {
   "cell_type": "markdown",
   "id": "fb4f0ad2-8c56-47a6-973e-a03455ed1846",
   "metadata": {},
   "source": [
    "### Step 4: Creating a Stream\n",
    "\n",
    "Create a stream from Alice to Bob."
   ]
  },
  {
   "cell_type": "code",
   "execution_count": 4,
   "id": "fc000af6-bb61-493f-bd74-96bb7128174d",
   "metadata": {},
   "outputs": [
    {
     "name": "stdout",
     "output_type": "stream",
     "text": [
      "Created a stream of 500.0 tokens from Alice to Bob over 100 seconds.\n"
     ]
    }
   ],
   "source": [
    "# Creating a stream from Alice to Bob\n",
    "stream_amount = 500 * DECIMALS\n",
    "stream_duration = 100  # Number of blocks for the duration of the stream\n",
    "usdc.transfer(\n",
    "            receiver=BOB_ADDRESS,\n",
    "            amount=stream_amount,\n",
    "            duration=stream_duration,\n",
    "            start_timestamp=current_timestamp,\n",
    "            sender=ALICE_ADDRESS,\n",
    "            current_timestamp=current_timestamp,\n",
    "        )\n",
    "print(f\"Created a stream of {stream_amount/DECIMALS} tokens from Alice to Bob over {stream_duration} seconds.\")"
   ]
  },
  {
   "cell_type": "markdown",
   "id": "0bd07e63-6111-4718-9772-3dcbcce6b8eb",
   "metadata": {},
   "source": [
    "### Step 5: Simulating Time Progression\n",
    "\n",
    "Simulate the passage of blocks to see the stream in action."
   ]
  },
  {
   "cell_type": "code",
   "execution_count": 5,
   "id": "ace31530-5939-419d-93c3-4b15aa1f4168",
   "metadata": {},
   "outputs": [
    {
     "name": "stdout",
     "output_type": "stream",
     "text": [
      "Timestamp 10: Alice's balance: 950.0, Bob's balance: 50.0\n",
      "Timestamp 20: Alice's balance: 900.0, Bob's balance: 100.0\n",
      "Timestamp 30: Alice's balance: 850.0, Bob's balance: 150.0\n",
      "Timestamp 40: Alice's balance: 800.0, Bob's balance: 200.0\n",
      "Timestamp 50: Alice's balance: 750.0, Bob's balance: 250.0\n",
      "Timestamp 60: Alice's balance: 700.0, Bob's balance: 300.0\n",
      "Timestamp 70: Alice's balance: 650.0, Bob's balance: 350.0\n",
      "Timestamp 80: Alice's balance: 600.0, Bob's balance: 400.0\n",
      "Timestamp 90: Alice's balance: 550.0, Bob's balance: 450.0\n",
      "Timestamp 100: Alice's balance: 500.0, Bob's balance: 500.0\n"
     ]
    }
   ],
   "source": [
    "# Simulating the passage of time and printing every 10 seconds\n",
    "for block in range(1, stream_duration + 1):\n",
    "    current_timestamp += 1\n",
    "    if current_timestamp % 10 == 0:\n",
    "        alice_balance = usdc.balance_of(ALICE_ADDRESS, current_timestamp)\n",
    "        bob_balance = usdc.balance_of(BOB_ADDRESS, current_timestamp)\n",
    "        print(f\"Timestamp {current_timestamp}: Alice's balance: {alice_balance/DECIMALS}, Bob's balance: {bob_balance/DECIMALS}\")\n"
   ]
  },
  {
   "cell_type": "markdown",
   "id": "91cd5d09-ea4d-4ab0-bd64-505cf57b00c5",
   "metadata": {},
   "source": [
    "### Step 6: AMM and token streaming\n",
    "\n",
    "In this segment, we'll illustrate how an Automated Market Maker (AMM) operates on a streaming platform, enabling users to employ a Dollar Cost Averaging (DCA) strategy for tokens. We start by setting up a Stream Swap. This will serve as the foundation for demonstrating how subsequent swaps by other users influence the future token price in a specific pair. Such price variations impact the total amount the initial user receives. Thus, this method provides exposure to a range of prices, effectively executing the DCA strategy.\n"
   ]
  },
  {
   "cell_type": "code",
   "execution_count": 6,
   "id": "64989b2c-591d-4981-b5ad-af8ac478a61f",
   "metadata": {},
   "outputs": [],
   "source": [
    "from dapp.amm import AMM\n",
    "from dapp.util import get_pair_address\n",
    "\n",
    "initialise_db()\n",
    "connection = get_connection()\n",
    "ctsi = StreamableToken(connection, CTSI_ADDRESS)\n",
    "usdc = StreamableToken(connection, USDC_ADDRESS)\n",
    "current_timestamp = 0\n",
    "amm = AMM(connection)\n",
    "\n",
    "# Mint USDC and CTSI for Alice so she can provide liquidity to the AMM\n",
    "usdc_lp_amount = 250*DECIMALS\n",
    "ctsi_lp_amount = 100*DECIMALS\n",
    "usdc.mint(usdc_lp_amount, ALICE_ADDRESS)\n",
    "ctsi.mint(ctsi_lp_amount, ALICE_ADDRESS)\n"
   ]
  },
  {
   "cell_type": "code",
   "execution_count": 7,
   "id": "81ba6c2a-1c8a-4e6e-8882-59a1887ab97b",
   "metadata": {},
   "outputs": [
    {
     "name": "stdout",
     "output_type": "stream",
     "text": [
      "Alice received 158.11388300841887 liquidity tokens\n",
      "Pair address 0xc43D253FD1d78bCcb80d049467A3d17D4B82acEa\n"
     ]
    }
   ],
   "source": [
    "liquidity = amm.add_liquidity(\n",
    "    token_a=CTSI_ADDRESS,\n",
    "    token_b=USDC_ADDRESS,\n",
    "    token_a_desired=ctsi_lp_amount,\n",
    "    token_b_desired=usdc_lp_amount,\n",
    "    token_a_min=ctsi_lp_amount,\n",
    "    token_b_min=usdc_lp_amount,\n",
    "    to=ALICE_ADDRESS,\n",
    "    msg_sender=ALICE_ADDRESS,\n",
    "    current_timestamp=current_timestamp\n",
    ")\n",
    "connection.commit()\n",
    "pair_address = get_pair_address(CTSI_ADDRESS, USDC_ADDRESS) # Addresses can be passed in any order\n",
    "print(f\"Alice received {liquidity / DECIMALS} liquidity tokens\")\n",
    "print(f\"Pair address {pair_address}\")"
   ]
  },
  {
   "cell_type": "code",
   "execution_count": 8,
   "id": "556eaaa6-cd07-4a2e-a645-3eddde0a29cb",
   "metadata": {},
   "outputs": [
    {
     "name": "stdout",
     "output_type": "stream",
     "text": [
      "Reserve CTSI 100.0, reserve USDC 250.0\n",
      "Spot price CTSI: 2.5 CTSI/USDC\n"
     ]
    }
   ],
   "source": [
    "(reserve_a, reserve_b) = amm.get_reserves(CTSI_ADDRESS, USDC_ADDRESS, current_timestamp)\n",
    "\n",
    "spot_price_ctsi = reserve_b/reserve_a\n",
    "\n",
    "print(f\"Reserve CTSI {reserve_a / DECIMALS}, reserve USDC {reserve_b / DECIMALS}\")\n",
    "\n",
    "print(f\"Spot price CTSI: {spot_price_ctsi} CTSI/USDC\")"
   ]
  },
  {
   "cell_type": "code",
   "execution_count": 9,
   "id": "481a1fca-5a56-40c1-8da2-c889a69f4440",
   "metadata": {},
   "outputs": [
    {
     "name": "stdout",
     "output_type": "stream",
     "text": [
      "Bob's USDC balance before swap 30.0\n",
      "Bob's CTSI balance before swap 0.0\n",
      "\n",
      "Bob's future USDC balance after swap 0.0\n",
      "Bob's future CTSI balance after swap 10.426370476531709\n",
      "\n",
      "A randoms users Swap 50.0 CTSI for USDC receiving, 81.64983164983165 USDC \n",
      "\n",
      "This transaction impacts the CTSI/USDC price, altering the outcomes of Bob's initial trade:\n",
      "Bob's new future USDC balance 0.0\n",
      "Bob's new future CTSI balance 16.12382963551418\n"
     ]
    }
   ],
   "source": [
    "swap_duration = 10000\n",
    "swap_start_trader = current_timestamp + 100\n",
    "bob_swap_amt = 30 * DECIMALS\n",
    "usdc.mint(bob_swap_amt, BOB_ADDRESS)\n",
    "\n",
    "bob_balance_usdc = usdc.balance_of(BOB_ADDRESS, current_timestamp)\n",
    "bob_balance_csti = ctsi.balance_of(BOB_ADDRESS, current_timestamp)\n",
    "print(f\"Bob's USDC balance before swap {bob_balance_usdc/DECIMALS}\")\n",
    "print(f\"Bob's CTSI balance before swap {bob_balance_csti/DECIMALS}\\n\")\n",
    "\n",
    "amm.swap_exact_tokens_for_tokens(\n",
    "            amount_in=bob_swap_amt,\n",
    "            amount_out_min=0,\n",
    "            path=[USDC_ADDRESS,CTSI_ADDRESS],\n",
    "            start=swap_start_trader,\n",
    "            duration=swap_duration,\n",
    "            to=BOB_ADDRESS,\n",
    "            msg_sender=BOB_ADDRESS,\n",
    "            current_timestamp=current_timestamp,\n",
    "        )\n",
    "\n",
    "bob_balance_usdc = usdc.future_balance_of(BOB_ADDRESS)\n",
    "bob_balance_csti = ctsi.future_balance_of(BOB_ADDRESS)\n",
    "\n",
    "\n",
    "print(f\"Bob's future USDC balance after swap {bob_balance_usdc/DECIMALS}\")\n",
    "print(f\"Bob's future CTSI balance after swap {bob_balance_csti/DECIMALS}\\n\")\n",
    "\n",
    "random_amount = 50 * DECIMALS\n",
    "ctsi.mint(random_amount, RANDOM_USER)\n",
    "\n",
    "current_timestamp += 100\n",
    "\n",
    "amm.swap_exact_tokens_for_tokens(\n",
    "            amount_in=random_amount,\n",
    "            amount_out_min=0,\n",
    "            path=[CTSI_ADDRESS,USDC_ADDRESS],\n",
    "            start=swap_start_trader,\n",
    "            duration=swap_duration//2,\n",
    "            to=RANDOM_USER,\n",
    "            msg_sender=RANDOM_USER,\n",
    "            current_timestamp=current_timestamp,\n",
    "        )\n",
    "\n",
    "random_balance_usdc = usdc.future_balance_of(RANDOM_USER)\n",
    "random_balance_csti = ctsi.future_balance_of(RANDOM_USER)\n",
    "\n",
    "print(f\"A randoms users Swap {random_amount/DECIMALS} CTSI for USDC receiving, {random_balance_usdc/DECIMALS} USDC \\n\")\n",
    "print(f\"This transaction impacts the CTSI/USDC price, altering the outcomes of Bob's initial trade:\")\n",
    "\n",
    "bob_balance_usdc_new = usdc.future_balance_of(BOB_ADDRESS)\n",
    "bob_balance_csti_new = ctsi.future_balance_of(BOB_ADDRESS)\n",
    "\n",
    "print(f\"Bob's new future USDC balance {bob_balance_usdc/DECIMALS}\")\n",
    "print(f\"Bob's new future CTSI balance {bob_balance_csti_new/DECIMALS}\")"
   ]
  },
  {
   "cell_type": "markdown",
   "id": "e7eaef2d-de08-4bf8-8289-7c991ac96c4c",
   "metadata": {},
   "source": [
    "This demonstrates how a stream swap is subject to price fluctuations, thereby resulting in the Dollar Cost Averaging (DCA) effect."
   ]
  }
 ],
 "metadata": {
  "kernelspec": {
   "display_name": "Python 3 (ipykernel)",
   "language": "python",
   "name": "python3"
  },
  "language_info": {
   "codemirror_mode": {
    "name": "ipython",
    "version": 3
   },
   "file_extension": ".py",
   "mimetype": "text/x-python",
   "name": "python",
   "nbconvert_exporter": "python",
   "pygments_lexer": "ipython3",
   "version": "3.11.6"
  }
 },
 "nbformat": 4,
 "nbformat_minor": 5
}
