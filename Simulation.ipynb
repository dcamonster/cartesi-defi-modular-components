{
 "cells": [
  {
   "cell_type": "markdown",
   "id": "078c0864-203a-42e9-975d-941a63a773a7",
   "metadata": {},
   "source": [
    "### Step 1: Imports and Setup\n",
    "\n",
    "Start by importing the necessary modules and initializing the database connection."
   ]
  },
  {
   "cell_type": "code",
   "execution_count": 1,
   "id": "1723e65d-20d5-4325-9bd6-1d57bf6419fa",
   "metadata": {},
   "outputs": [],
   "source": [
    "from dapp.streamabletoken import StreamableToken\n",
    "from dapp.db import get_connection\n",
    "\n",
    "# Define constants\n",
    "USDC_ADDRESS = \"0xa0b86991c6218b36c1d19d4a2e9eb0ce3606eb48\"\n",
    "ALICE_ADDRESS = \"0xf39Fd6e51aad88F6F4ce6aB8827279cffFb92266\"\n",
    "BOB_ADDRESS = \"0x70997970C51812dc3A010C7d01b50e0d17dc79C8\"\n",
    "\n",
    "# Set the current block number\n",
    "current_block = 0\n",
    "\n",
    "# Establish database connection\n",
    "connection = get_connection()\n",
    "\n",
    "# Create an instance of the StreamableToken\n",
    "token = StreamableToken(connection, USDC_ADDRESS)"
   ]
  },
  {
   "cell_type": "markdown",
   "id": "7de4f050-82de-45ce-a0cd-bd9ed48c4ebe",
   "metadata": {},
   "source": [
    "### Step 2: Minting Tokens\n",
    "\n",
    "Demonstrate minting tokens to Alice's account."
   ]
  },
  {
   "cell_type": "code",
   "execution_count": 2,
   "id": "a9b7285b-3e0f-4091-9588-48afde54338a",
   "metadata": {},
   "outputs": [
    {
     "name": "stdout",
     "output_type": "stream",
     "text": [
      "Minted 1000 tokens to 0xf39Fd6e51aad88F6F4ce6aB8827279cffFb92266\n"
     ]
    }
   ],
   "source": [
    "# Minting tokens to Alice\n",
    "mint_amount = 1000  # Define the amount to mint\n",
    "token.mint(mint_amount, ALICE_ADDRESS)\n",
    "print(f\"Minted {mint_amount} tokens to {ALICE_ADDRESS}\")"
   ]
  },
  {
   "cell_type": "markdown",
   "id": "4e2cc137-5ca8-4663-8a9a-df076a1f798b",
   "metadata": {},
   "source": [
    "### Step 3: Checking Balances\n",
    "\n",
    "Check the balance of Alice and Bob to confirm the minting."
   ]
  },
  {
   "cell_type": "code",
   "execution_count": 3,
   "id": "f020033b-9dc3-4330-85c5-69b3811bdac7",
   "metadata": {},
   "outputs": [
    {
     "name": "stdout",
     "output_type": "stream",
     "text": [
      "Alice's balance: 1000\n",
      "Bob's balance: 0\n"
     ]
    }
   ],
   "source": [
    "# Checking Alice's balance\n",
    "alice_balance = token.get_stored_balance(ALICE_ADDRESS)\n",
    "print(f\"Alice's balance: {alice_balance}\")\n",
    "\n",
    "# Checking Bob's balance\n",
    "bob_balance = token.get_stored_balance(BOB_ADDRESS)\n",
    "print(f\"Bob's balance: {bob_balance}\")"
   ]
  },
  {
   "cell_type": "markdown",
   "id": "fb4f0ad2-8c56-47a6-973e-a03455ed1846",
   "metadata": {},
   "source": [
    "### Step 4: Creating a Stream\n",
    "\n",
    "Create a stream from Alice to Bob."
   ]
  },
  {
   "cell_type": "code",
   "execution_count": 5,
   "id": "fc000af6-bb61-493f-bd74-96bb7128174d",
   "metadata": {},
   "outputs": [
    {
     "name": "stdout",
     "output_type": "stream",
     "text": [
      "Created a stream of 500 tokens from Alice to Bob over 100 blocks.\n"
     ]
    }
   ],
   "source": [
    "# Creating a stream from Alice to Bob\n",
    "stream_amount = 500\n",
    "stream_duration = 100  # Number of blocks for the duration of the stream\n",
    "token.transfer(BOB_ADDRESS, stream_amount, stream_duration, current_block, ALICE_ADDRESS, current_block)\n",
    "print(f\"Created a stream of {stream_amount} tokens from Alice to Bob over {stream_duration} blocks.\")"
   ]
  },
  {
   "cell_type": "markdown",
   "id": "0bd07e63-6111-4718-9772-3dcbcce6b8eb",
   "metadata": {},
   "source": [
    "### Step 5: Simulating Block Progression\n",
    "\n",
    "Simulate the passage of blocks to see the stream in action."
   ]
  },
  {
   "cell_type": "code",
   "execution_count": 6,
   "id": "ace31530-5939-419d-93c3-4b15aa1f4168",
   "metadata": {},
   "outputs": [
    {
     "name": "stdout",
     "output_type": "stream",
     "text": [
      "Block 10: Alice's balance: 950, Bob's balance: 50\n",
      "Block 20: Alice's balance: 900, Bob's balance: 100\n",
      "Block 30: Alice's balance: 850, Bob's balance: 150\n",
      "Block 40: Alice's balance: 800, Bob's balance: 200\n",
      "Block 50: Alice's balance: 750, Bob's balance: 250\n",
      "Block 60: Alice's balance: 700, Bob's balance: 300\n",
      "Block 70: Alice's balance: 650, Bob's balance: 350\n",
      "Block 80: Alice's balance: 600, Bob's balance: 400\n",
      "Block 90: Alice's balance: 550, Bob's balance: 450\n",
      "Block 100: Alice's balance: 500, Bob's balance: 500\n"
     ]
    }
   ],
   "source": [
    "# Simulating the passage of blocks and printing every 10 blocks\n",
    "for block in range(1, stream_duration + 1):\n",
    "    current_block += 1\n",
    "    if current_block % 10 == 0:\n",
    "        alice_balance = token.balance_of(ALICE_ADDRESS, current_block)\n",
    "        bob_balance = token.balance_of(BOB_ADDRESS, current_block)\n",
    "        print(f\"Block {current_block}: Alice's balance: {alice_balance}, Bob's balance: {bob_balance}\")\n"
   ]
  },
  {
   "cell_type": "code",
   "execution_count": null,
   "id": "ef4e7b31-2f92-425a-9d21-50028804a50a",
   "metadata": {},
   "outputs": [],
   "source": []
  }
 ],
 "metadata": {
  "kernelspec": {
   "display_name": "Python 3 (ipykernel)",
   "language": "python",
   "name": "python3"
  },
  "language_info": {
   "codemirror_mode": {
    "name": "ipython",
    "version": 3
   },
   "file_extension": ".py",
   "mimetype": "text/x-python",
   "name": "python",
   "nbconvert_exporter": "python",
   "pygments_lexer": "ipython3",
   "version": "3.11.6"
  }
 },
 "nbformat": 4,
 "nbformat_minor": 5
}
