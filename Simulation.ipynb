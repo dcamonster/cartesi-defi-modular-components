{
 "cells": [
  {
   "cell_type": "code",
   "execution_count": 9,
   "id": "1723e65d-20d5-4325-9bd6-1d57bf6419fa",
   "metadata": {},
   "outputs": [],
   "source": [
    "from dapp.streamabletoken import StreamableToken\n",
    "from dapp.db import get_connection"
   ]
  },
  {
   "cell_type": "code",
   "execution_count": 10,
   "id": "d3197eb8-5bb6-41ef-8a21-5d0cd27ef7c3",
   "metadata": {},
   "outputs": [],
   "source": [
    "USDC_ADDRESS = \"0xa0b86991c6218b36c1d19d4a2e9eb0ce3606eb48\"\n",
    "ALICE_ADDRESS = \"0xf39Fd6e51aad88F6F4ce6aB8827279cffFb92266\"\n",
    "BOB_ADDRESS = \"0x70997970C51812dc3A010C7d01b50e0d17dc79C8\"\n",
    "\n",
    "current_block = 0"
   ]
  },
  {
   "cell_type": "markdown",
   "id": "2eee59a0-8ef8-47ad-bcc9-94ffcebc9f6f",
   "metadata": {},
   "source": [
    "This is just text"
   ]
  },
  {
   "cell_type": "code",
   "execution_count": 11,
   "id": "3445bfd9-eedb-4247-b62b-9e75541e48b7",
   "metadata": {},
   "outputs": [
    {
     "ename": "TypeError",
     "evalue": "StreamableToken.__init__() takes 2 positional arguments but 3 were given",
     "output_type": "error",
     "traceback": [
      "\u001b[0;31m---------------------------------------------------------------------------\u001b[0m",
      "\u001b[0;31mTypeError\u001b[0m                                 Traceback (most recent call last)",
      "Cell \u001b[0;32mIn[11], line 2\u001b[0m\n\u001b[1;32m      1\u001b[0m connection \u001b[38;5;241m=\u001b[39m get_connection()\n\u001b[0;32m----> 2\u001b[0m streamable_token \u001b[38;5;241m=\u001b[39m \u001b[43mStreamableToken\u001b[49m\u001b[43m(\u001b[49m\u001b[43mUSDC_ADDRESS\u001b[49m\u001b[43m,\u001b[49m\u001b[43mconnection\u001b[49m\u001b[43m)\u001b[49m\n",
      "\u001b[0;31mTypeError\u001b[0m: StreamableToken.__init__() takes 2 positional arguments but 3 were given"
     ]
    }
   ],
   "source": [
    "connection = get_connection()\n",
    "streamable_token = StreamableToken(USDC_ADDRESS,connection)"
   ]
  },
  {
   "cell_type": "code",
   "execution_count": null,
   "id": "57b5c270-a863-4f43-a1b5-007112b4a89f",
   "metadata": {},
   "outputs": [],
   "source": []
  }
 ],
 "metadata": {
  "kernelspec": {
   "display_name": "Python 3 (ipykernel)",
   "language": "python",
   "name": "python3"
  },
  "language_info": {
   "codemirror_mode": {
    "name": "ipython",
    "version": 3
   },
   "file_extension": ".py",
   "mimetype": "text/x-python",
   "name": "python",
   "nbconvert_exporter": "python",
   "pygments_lexer": "ipython3",
   "version": "3.11.6"
  }
 },
 "nbformat": 4,
 "nbformat_minor": 5
}
