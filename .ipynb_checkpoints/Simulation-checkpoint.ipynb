{
 "cells": [
  {
   "cell_type": "code",
   "execution_count": 3,
   "id": "1723e65d-20d5-4325-9bd6-1d57bf6419fa",
   "metadata": {},
   "outputs": [],
   "source": [
    "from dapp.streamabletoken import StreamableToken"
   ]
  },
  {
   "cell_type": "code",
   "execution_count": 4,
   "id": "d3197eb8-5bb6-41ef-8a21-5d0cd27ef7c3",
   "metadata": {},
   "outputs": [],
   "source": [
    "USDC_ADDRESS = \"0xa0b86991c6218b36c1d19d4a2e9eb0ce3606eb48\"\n",
    "ALICE_ADDRESS = \"0xf39Fd6e51aad88F6F4ce6aB8827279cffFb92266\"\n",
    "BOB_ADDRESS = \"0x70997970C51812dc3A010C7d01b50e0d17dc79C8\"\n",
    "\n",
    "current_block = 0"
   ]
  },
  {
   "cell_type": "code",
   "execution_count": null,
   "id": "5bf4f3d2-6ede-4beb-8f7b-1a50dfb8d705",
   "metadata": {},
   "outputs": [],
   "source": []
  },
  {
   "cell_type": "code",
   "execution_count": null,
   "id": "3445bfd9-eedb-4247-b62b-9e75541e48b7",
   "metadata": {},
   "outputs": [],
   "source": []
  }
 ],
 "metadata": {
  "kernelspec": {
   "display_name": "Python 3 (ipykernel)",
   "language": "python",
   "name": "python3"
  },
  "language_info": {
   "codemirror_mode": {
    "name": "ipython",
    "version": 3
   },
   "file_extension": ".py",
   "mimetype": "text/x-python",
   "name": "python",
   "nbconvert_exporter": "python",
   "pygments_lexer": "ipython3",
   "version": "3.11.6"
  }
 },
 "nbformat": 4,
 "nbformat_minor": 5
}
